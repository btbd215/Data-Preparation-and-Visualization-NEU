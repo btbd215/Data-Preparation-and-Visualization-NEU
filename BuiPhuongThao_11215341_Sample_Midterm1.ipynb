{
 "cells": [
  {
   "cell_type": "markdown",
   "id": "bdf95867",
   "metadata": {},
   "source": [
    "### NAME: Bùi Phương Thảo\n",
    "### Class: DSEB63\n",
    "### ID : 11215341"
   ]
  },
  {
   "cell_type": "code",
   "execution_count": 1,
   "id": "ad64920e",
   "metadata": {},
   "outputs": [],
   "source": [
    "import pandas as pd\n",
    "import numpy as np\n",
    "import regex as re\n",
    "import random"
   ]
  },
  {
   "cell_type": "markdown",
   "id": "df3a0cf8",
   "metadata": {},
   "source": [
    "### 1.DEMOGRAPAHIC dataset"
   ]
  },
  {
   "cell_type": "code",
   "execution_count": 2,
   "id": "6464a88c",
   "metadata": {},
   "outputs": [
    {
     "data": {
      "text/html": [
       "<div>\n",
       "<style scoped>\n",
       "    .dataframe tbody tr th:only-of-type {\n",
       "        vertical-align: middle;\n",
       "    }\n",
       "\n",
       "    .dataframe tbody tr th {\n",
       "        vertical-align: top;\n",
       "    }\n",
       "\n",
       "    .dataframe thead th {\n",
       "        text-align: right;\n",
       "    }\n",
       "</style>\n",
       "<table border=\"1\" class=\"dataframe\">\n",
       "  <thead>\n",
       "    <tr style=\"text-align: right;\">\n",
       "      <th></th>\n",
       "      <th>age</th>\n",
       "      <th>gender</th>\n",
       "      <th>email</th>\n",
       "      <th>address</th>\n",
       "    </tr>\n",
       "  </thead>\n",
       "  <tbody>\n",
       "    <tr>\n",
       "      <th>0</th>\n",
       "      <td>18.0</td>\n",
       "      <td>M</td>\n",
       "      <td>NaN</td>\n",
       "      <td>HN</td>\n",
       "    </tr>\n",
       "    <tr>\n",
       "      <th>1</th>\n",
       "      <td>23.0</td>\n",
       "      <td>F</td>\n",
       "      <td>NaN</td>\n",
       "      <td>HP</td>\n",
       "    </tr>\n",
       "    <tr>\n",
       "      <th>2</th>\n",
       "      <td>NaN</td>\n",
       "      <td>M</td>\n",
       "      <td>abc@gmail.com</td>\n",
       "      <td>BG</td>\n",
       "    </tr>\n",
       "    <tr>\n",
       "      <th>3</th>\n",
       "      <td>40.0</td>\n",
       "      <td>NaN</td>\n",
       "      <td>qgiang.nguyen@gmail.com</td>\n",
       "      <td>BN</td>\n",
       "    </tr>\n",
       "    <tr>\n",
       "      <th>4</th>\n",
       "      <td>67.0</td>\n",
       "      <td>F</td>\n",
       "      <td>NaN</td>\n",
       "      <td>TPHCM</td>\n",
       "    </tr>\n",
       "    <tr>\n",
       "      <th>5</th>\n",
       "      <td>NaN</td>\n",
       "      <td>NaN</td>\n",
       "      <td>abc@yahoo.com.vn</td>\n",
       "      <td>BD</td>\n",
       "    </tr>\n",
       "  </tbody>\n",
       "</table>\n",
       "</div>"
      ],
      "text/plain": [
       "    age gender                    email address\n",
       "0  18.0      M                      NaN      HN\n",
       "1  23.0      F                      NaN      HP\n",
       "2   NaN      M            abc@gmail.com      BG\n",
       "3  40.0    NaN  qgiang.nguyen@gmail.com      BN\n",
       "4  67.0      F                      NaN   TPHCM\n",
       "5   NaN    NaN         abc@yahoo.com.vn      BD"
      ]
     },
     "execution_count": 2,
     "metadata": {},
     "output_type": "execute_result"
    }
   ],
   "source": [
    "demo = pd.read_csv(r\"C:\\Users\\KyThuat88\\Downloads\\Sample-Midterm-1-Data\\Sample-Midterm-1-Data\\demographic.csv\")\n",
    "demo"
   ]
  },
  {
   "cell_type": "code",
   "execution_count": 3,
   "id": "92994d1e",
   "metadata": {},
   "outputs": [],
   "source": [
    "# 2. The email attribute contains 'abc@gmail.com' values that indicate values are missing, but they aren't represented as NaN. Replace them with NaN value"
   ]
  },
  {
   "cell_type": "code",
   "execution_count": 4,
   "id": "beaec861",
   "metadata": {},
   "outputs": [
    {
     "data": {
      "text/html": [
       "<div>\n",
       "<style scoped>\n",
       "    .dataframe tbody tr th:only-of-type {\n",
       "        vertical-align: middle;\n",
       "    }\n",
       "\n",
       "    .dataframe tbody tr th {\n",
       "        vertical-align: top;\n",
       "    }\n",
       "\n",
       "    .dataframe thead th {\n",
       "        text-align: right;\n",
       "    }\n",
       "</style>\n",
       "<table border=\"1\" class=\"dataframe\">\n",
       "  <thead>\n",
       "    <tr style=\"text-align: right;\">\n",
       "      <th></th>\n",
       "      <th>email</th>\n",
       "    </tr>\n",
       "  </thead>\n",
       "  <tbody>\n",
       "    <tr>\n",
       "      <th>0</th>\n",
       "      <td>NaN</td>\n",
       "    </tr>\n",
       "    <tr>\n",
       "      <th>1</th>\n",
       "      <td>NaN</td>\n",
       "    </tr>\n",
       "    <tr>\n",
       "      <th>2</th>\n",
       "      <td>abc@gmail.com</td>\n",
       "    </tr>\n",
       "    <tr>\n",
       "      <th>3</th>\n",
       "      <td>qgiang.nguyen@gmail.com</td>\n",
       "    </tr>\n",
       "    <tr>\n",
       "      <th>4</th>\n",
       "      <td>NaN</td>\n",
       "    </tr>\n",
       "    <tr>\n",
       "      <th>5</th>\n",
       "      <td>abc@yahoo.com.vn</td>\n",
       "    </tr>\n",
       "  </tbody>\n",
       "</table>\n",
       "</div>"
      ],
      "text/plain": [
       "                     email\n",
       "0                      NaN\n",
       "1                      NaN\n",
       "2            abc@gmail.com\n",
       "3  qgiang.nguyen@gmail.com\n",
       "4                      NaN\n",
       "5         abc@yahoo.com.vn"
      ]
     },
     "execution_count": 4,
     "metadata": {},
     "output_type": "execute_result"
    }
   ],
   "source": [
    "df = pd.DataFrame(demo['email'])\n",
    "df"
   ]
  },
  {
   "cell_type": "code",
   "execution_count": 5,
   "id": "0d84482e",
   "metadata": {},
   "outputs": [],
   "source": [
    "df.replace('^abc@gmail', np.nan, regex = True, inplace = True)"
   ]
  },
  {
   "cell_type": "code",
   "execution_count": 6,
   "id": "71ecd040",
   "metadata": {},
   "outputs": [
    {
     "data": {
      "text/html": [
       "<div>\n",
       "<style scoped>\n",
       "    .dataframe tbody tr th:only-of-type {\n",
       "        vertical-align: middle;\n",
       "    }\n",
       "\n",
       "    .dataframe tbody tr th {\n",
       "        vertical-align: top;\n",
       "    }\n",
       "\n",
       "    .dataframe thead th {\n",
       "        text-align: right;\n",
       "    }\n",
       "</style>\n",
       "<table border=\"1\" class=\"dataframe\">\n",
       "  <thead>\n",
       "    <tr style=\"text-align: right;\">\n",
       "      <th></th>\n",
       "      <th>email</th>\n",
       "    </tr>\n",
       "  </thead>\n",
       "  <tbody>\n",
       "    <tr>\n",
       "      <th>0</th>\n",
       "      <td>NaN</td>\n",
       "    </tr>\n",
       "    <tr>\n",
       "      <th>1</th>\n",
       "      <td>NaN</td>\n",
       "    </tr>\n",
       "    <tr>\n",
       "      <th>2</th>\n",
       "      <td>NaN</td>\n",
       "    </tr>\n",
       "    <tr>\n",
       "      <th>3</th>\n",
       "      <td>qgiang.nguyen@gmail.com</td>\n",
       "    </tr>\n",
       "    <tr>\n",
       "      <th>4</th>\n",
       "      <td>NaN</td>\n",
       "    </tr>\n",
       "    <tr>\n",
       "      <th>5</th>\n",
       "      <td>abc@yahoo.com.vn</td>\n",
       "    </tr>\n",
       "  </tbody>\n",
       "</table>\n",
       "</div>"
      ],
      "text/plain": [
       "                     email\n",
       "0                      NaN\n",
       "1                      NaN\n",
       "2                      NaN\n",
       "3  qgiang.nguyen@gmail.com\n",
       "4                      NaN\n",
       "5         abc@yahoo.com.vn"
      ]
     },
     "execution_count": 6,
     "metadata": {},
     "output_type": "execute_result"
    }
   ],
   "source": [
    "df"
   ]
  },
  {
   "cell_type": "code",
   "execution_count": 7,
   "id": "b7668f6f",
   "metadata": {},
   "outputs": [],
   "source": [
    "demo['email'] = df['email']"
   ]
  },
  {
   "cell_type": "code",
   "execution_count": 8,
   "id": "ab15f1de",
   "metadata": {},
   "outputs": [
    {
     "data": {
      "text/html": [
       "<div>\n",
       "<style scoped>\n",
       "    .dataframe tbody tr th:only-of-type {\n",
       "        vertical-align: middle;\n",
       "    }\n",
       "\n",
       "    .dataframe tbody tr th {\n",
       "        vertical-align: top;\n",
       "    }\n",
       "\n",
       "    .dataframe thead th {\n",
       "        text-align: right;\n",
       "    }\n",
       "</style>\n",
       "<table border=\"1\" class=\"dataframe\">\n",
       "  <thead>\n",
       "    <tr style=\"text-align: right;\">\n",
       "      <th></th>\n",
       "      <th>age</th>\n",
       "      <th>gender</th>\n",
       "      <th>email</th>\n",
       "      <th>address</th>\n",
       "    </tr>\n",
       "  </thead>\n",
       "  <tbody>\n",
       "    <tr>\n",
       "      <th>0</th>\n",
       "      <td>18.0</td>\n",
       "      <td>M</td>\n",
       "      <td>NaN</td>\n",
       "      <td>HN</td>\n",
       "    </tr>\n",
       "    <tr>\n",
       "      <th>1</th>\n",
       "      <td>23.0</td>\n",
       "      <td>F</td>\n",
       "      <td>NaN</td>\n",
       "      <td>HP</td>\n",
       "    </tr>\n",
       "    <tr>\n",
       "      <th>2</th>\n",
       "      <td>NaN</td>\n",
       "      <td>M</td>\n",
       "      <td>NaN</td>\n",
       "      <td>BG</td>\n",
       "    </tr>\n",
       "    <tr>\n",
       "      <th>3</th>\n",
       "      <td>40.0</td>\n",
       "      <td>NaN</td>\n",
       "      <td>qgiang.nguyen@gmail.com</td>\n",
       "      <td>BN</td>\n",
       "    </tr>\n",
       "    <tr>\n",
       "      <th>4</th>\n",
       "      <td>67.0</td>\n",
       "      <td>F</td>\n",
       "      <td>NaN</td>\n",
       "      <td>TPHCM</td>\n",
       "    </tr>\n",
       "    <tr>\n",
       "      <th>5</th>\n",
       "      <td>NaN</td>\n",
       "      <td>NaN</td>\n",
       "      <td>abc@yahoo.com.vn</td>\n",
       "      <td>BD</td>\n",
       "    </tr>\n",
       "  </tbody>\n",
       "</table>\n",
       "</div>"
      ],
      "text/plain": [
       "    age gender                    email address\n",
       "0  18.0      M                      NaN      HN\n",
       "1  23.0      F                      NaN      HP\n",
       "2   NaN      M                      NaN      BG\n",
       "3  40.0    NaN  qgiang.nguyen@gmail.com      BN\n",
       "4  67.0      F                      NaN   TPHCM\n",
       "5   NaN    NaN         abc@yahoo.com.vn      BD"
      ]
     },
     "execution_count": 8,
     "metadata": {},
     "output_type": "execute_result"
    }
   ],
   "source": [
    "demo"
   ]
  },
  {
   "cell_type": "code",
   "execution_count": 9,
   "id": "c4f28d8d",
   "metadata": {},
   "outputs": [
    {
     "data": {
      "text/plain": [
       "0    True\n",
       "1    True\n",
       "2    True\n",
       "3    True\n",
       "4    True\n",
       "5    True\n",
       "Name: gender, dtype: bool"
      ]
     },
     "execution_count": 9,
     "metadata": {},
     "output_type": "execute_result"
    }
   ],
   "source": [
    "demo['gender'] != np.nan"
   ]
  },
  {
   "cell_type": "code",
   "execution_count": 10,
   "id": "912cbf67",
   "metadata": {},
   "outputs": [
    {
     "data": {
      "text/plain": [
       "age        2\n",
       "gender     2\n",
       "email      4\n",
       "address    0\n",
       "dtype: int64"
      ]
     },
     "execution_count": 10,
     "metadata": {},
     "output_type": "execute_result"
    }
   ],
   "source": [
    "#3. Calculate the total number of missing values for each column\n",
    "demo.isnull().sum()"
   ]
  },
  {
   "cell_type": "code",
   "execution_count": 11,
   "id": "d4b07dc7",
   "metadata": {},
   "outputs": [
    {
     "data": {
      "text/html": [
       "<div>\n",
       "<style scoped>\n",
       "    .dataframe tbody tr th:only-of-type {\n",
       "        vertical-align: middle;\n",
       "    }\n",
       "\n",
       "    .dataframe tbody tr th {\n",
       "        vertical-align: top;\n",
       "    }\n",
       "\n",
       "    .dataframe thead th {\n",
       "        text-align: right;\n",
       "    }\n",
       "</style>\n",
       "<table border=\"1\" class=\"dataframe\">\n",
       "  <thead>\n",
       "    <tr style=\"text-align: right;\">\n",
       "      <th></th>\n",
       "      <th>age</th>\n",
       "      <th>gender</th>\n",
       "      <th>email</th>\n",
       "      <th>address</th>\n",
       "      <th>Total null</th>\n",
       "    </tr>\n",
       "  </thead>\n",
       "  <tbody>\n",
       "    <tr>\n",
       "      <th>0</th>\n",
       "      <td>18.0</td>\n",
       "      <td>M</td>\n",
       "      <td>NaN</td>\n",
       "      <td>HN</td>\n",
       "      <td>1</td>\n",
       "    </tr>\n",
       "    <tr>\n",
       "      <th>1</th>\n",
       "      <td>23.0</td>\n",
       "      <td>F</td>\n",
       "      <td>NaN</td>\n",
       "      <td>HP</td>\n",
       "      <td>1</td>\n",
       "    </tr>\n",
       "    <tr>\n",
       "      <th>2</th>\n",
       "      <td>NaN</td>\n",
       "      <td>M</td>\n",
       "      <td>NaN</td>\n",
       "      <td>BG</td>\n",
       "      <td>2</td>\n",
       "    </tr>\n",
       "    <tr>\n",
       "      <th>3</th>\n",
       "      <td>40.0</td>\n",
       "      <td>NaN</td>\n",
       "      <td>qgiang.nguyen@gmail.com</td>\n",
       "      <td>BN</td>\n",
       "      <td>1</td>\n",
       "    </tr>\n",
       "    <tr>\n",
       "      <th>4</th>\n",
       "      <td>67.0</td>\n",
       "      <td>F</td>\n",
       "      <td>NaN</td>\n",
       "      <td>TPHCM</td>\n",
       "      <td>1</td>\n",
       "    </tr>\n",
       "    <tr>\n",
       "      <th>5</th>\n",
       "      <td>NaN</td>\n",
       "      <td>NaN</td>\n",
       "      <td>abc@yahoo.com.vn</td>\n",
       "      <td>BD</td>\n",
       "      <td>2</td>\n",
       "    </tr>\n",
       "  </tbody>\n",
       "</table>\n",
       "</div>"
      ],
      "text/plain": [
       "    age gender                    email address  Total null\n",
       "0  18.0      M                      NaN      HN           1\n",
       "1  23.0      F                      NaN      HP           1\n",
       "2   NaN      M                      NaN      BG           2\n",
       "3  40.0    NaN  qgiang.nguyen@gmail.com      BN           1\n",
       "4  67.0      F                      NaN   TPHCM           1\n",
       "5   NaN    NaN         abc@yahoo.com.vn      BD           2"
      ]
     },
     "execution_count": 11,
     "metadata": {},
     "output_type": "execute_result"
    }
   ],
   "source": [
    "#4. Add a new column named ‘Total Null’. It should be the total number of nan values of each row\n",
    "demo['Total null'] = demo.isnull().sum(axis = 1)\n",
    "demo"
   ]
  },
  {
   "cell_type": "code",
   "execution_count": 12,
   "id": "2215b958",
   "metadata": {},
   "outputs": [
    {
     "data": {
      "text/plain": [
       "(6, 5)"
      ]
     },
     "execution_count": 12,
     "metadata": {},
     "output_type": "execute_result"
    }
   ],
   "source": [
    "demo.shape"
   ]
  },
  {
   "cell_type": "code",
   "execution_count": 13,
   "id": "8429421d",
   "metadata": {},
   "outputs": [],
   "source": [
    "import math"
   ]
  },
  {
   "cell_type": "code",
   "execution_count": 14,
   "id": "192bbca7",
   "metadata": {},
   "outputs": [],
   "source": [
    "#5. Drop columns that contain more than 80% missing value using the dropna function\n",
    "demo.dropna(thresh = math.ceil(0.2 * demo.shape[0]),axis = 1, inplace = True)"
   ]
  },
  {
   "cell_type": "code",
   "execution_count": 15,
   "id": "f5b6dbec",
   "metadata": {},
   "outputs": [],
   "source": [
    "#6. Drop rows that contain more than two missing values using the dropna function\n",
    "demo.dropna(thresh = demo.shape[1] - 1, inplace = True)"
   ]
  },
  {
   "cell_type": "code",
   "execution_count": 16,
   "id": "bd8eb8e8",
   "metadata": {},
   "outputs": [
    {
     "data": {
      "text/html": [
       "<div>\n",
       "<style scoped>\n",
       "    .dataframe tbody tr th:only-of-type {\n",
       "        vertical-align: middle;\n",
       "    }\n",
       "\n",
       "    .dataframe tbody tr th {\n",
       "        vertical-align: top;\n",
       "    }\n",
       "\n",
       "    .dataframe thead th {\n",
       "        text-align: right;\n",
       "    }\n",
       "</style>\n",
       "<table border=\"1\" class=\"dataframe\">\n",
       "  <thead>\n",
       "    <tr style=\"text-align: right;\">\n",
       "      <th></th>\n",
       "      <th>age</th>\n",
       "      <th>gender</th>\n",
       "      <th>email</th>\n",
       "      <th>address</th>\n",
       "      <th>Total null</th>\n",
       "    </tr>\n",
       "  </thead>\n",
       "  <tbody>\n",
       "    <tr>\n",
       "      <th>0</th>\n",
       "      <td>18.0</td>\n",
       "      <td>M</td>\n",
       "      <td>NaN</td>\n",
       "      <td>HN</td>\n",
       "      <td>1</td>\n",
       "    </tr>\n",
       "    <tr>\n",
       "      <th>1</th>\n",
       "      <td>23.0</td>\n",
       "      <td>F</td>\n",
       "      <td>NaN</td>\n",
       "      <td>HP</td>\n",
       "      <td>1</td>\n",
       "    </tr>\n",
       "    <tr>\n",
       "      <th>3</th>\n",
       "      <td>40.0</td>\n",
       "      <td>NaN</td>\n",
       "      <td>qgiang.nguyen@gmail.com</td>\n",
       "      <td>BN</td>\n",
       "      <td>1</td>\n",
       "    </tr>\n",
       "    <tr>\n",
       "      <th>4</th>\n",
       "      <td>67.0</td>\n",
       "      <td>F</td>\n",
       "      <td>NaN</td>\n",
       "      <td>TPHCM</td>\n",
       "      <td>1</td>\n",
       "    </tr>\n",
       "  </tbody>\n",
       "</table>\n",
       "</div>"
      ],
      "text/plain": [
       "    age gender                    email address  Total null\n",
       "0  18.0      M                      NaN      HN           1\n",
       "1  23.0      F                      NaN      HP           1\n",
       "3  40.0    NaN  qgiang.nguyen@gmail.com      BN           1\n",
       "4  67.0      F                      NaN   TPHCM           1"
      ]
     },
     "execution_count": 16,
     "metadata": {},
     "output_type": "execute_result"
    }
   ],
   "source": [
    "demo"
   ]
  },
  {
   "cell_type": "markdown",
   "id": "c3b53bd6",
   "metadata": {},
   "source": [
    "7. Reread this dataset. This time, we will fill the missing values with other values instead of dropping them.\n",
    "- Fill the missing value of the age attribute by the mean value of this attribute\n",
    "- Fill the missing value of the gender attribute by the most Frequent Occurring. In the case of having more than one with the highest frequency occurring, randomly choose one between them to fill the missing value."
   ]
  },
  {
   "cell_type": "code",
   "execution_count": 17,
   "id": "909187d4",
   "metadata": {},
   "outputs": [
    {
     "data": {
      "text/html": [
       "<div>\n",
       "<style scoped>\n",
       "    .dataframe tbody tr th:only-of-type {\n",
       "        vertical-align: middle;\n",
       "    }\n",
       "\n",
       "    .dataframe tbody tr th {\n",
       "        vertical-align: top;\n",
       "    }\n",
       "\n",
       "    .dataframe thead th {\n",
       "        text-align: right;\n",
       "    }\n",
       "</style>\n",
       "<table border=\"1\" class=\"dataframe\">\n",
       "  <thead>\n",
       "    <tr style=\"text-align: right;\">\n",
       "      <th></th>\n",
       "      <th>age</th>\n",
       "      <th>gender</th>\n",
       "      <th>email</th>\n",
       "      <th>address</th>\n",
       "    </tr>\n",
       "  </thead>\n",
       "  <tbody>\n",
       "    <tr>\n",
       "      <th>0</th>\n",
       "      <td>18.0</td>\n",
       "      <td>M</td>\n",
       "      <td>NaN</td>\n",
       "      <td>HN</td>\n",
       "    </tr>\n",
       "    <tr>\n",
       "      <th>1</th>\n",
       "      <td>23.0</td>\n",
       "      <td>F</td>\n",
       "      <td>NaN</td>\n",
       "      <td>HP</td>\n",
       "    </tr>\n",
       "    <tr>\n",
       "      <th>2</th>\n",
       "      <td>NaN</td>\n",
       "      <td>M</td>\n",
       "      <td>abc@gmail.com</td>\n",
       "      <td>BG</td>\n",
       "    </tr>\n",
       "    <tr>\n",
       "      <th>3</th>\n",
       "      <td>40.0</td>\n",
       "      <td>NaN</td>\n",
       "      <td>qgiang.nguyen@gmail.com</td>\n",
       "      <td>BN</td>\n",
       "    </tr>\n",
       "    <tr>\n",
       "      <th>4</th>\n",
       "      <td>67.0</td>\n",
       "      <td>F</td>\n",
       "      <td>NaN</td>\n",
       "      <td>TPHCM</td>\n",
       "    </tr>\n",
       "    <tr>\n",
       "      <th>5</th>\n",
       "      <td>NaN</td>\n",
       "      <td>NaN</td>\n",
       "      <td>abc@yahoo.com.vn</td>\n",
       "      <td>BD</td>\n",
       "    </tr>\n",
       "  </tbody>\n",
       "</table>\n",
       "</div>"
      ],
      "text/plain": [
       "    age gender                    email address\n",
       "0  18.0      M                      NaN      HN\n",
       "1  23.0      F                      NaN      HP\n",
       "2   NaN      M            abc@gmail.com      BG\n",
       "3  40.0    NaN  qgiang.nguyen@gmail.com      BN\n",
       "4  67.0      F                      NaN   TPHCM\n",
       "5   NaN    NaN         abc@yahoo.com.vn      BD"
      ]
     },
     "execution_count": 17,
     "metadata": {},
     "output_type": "execute_result"
    }
   ],
   "source": [
    "demo1 = pd.read_csv(r\"C:\\Users\\KyThuat88\\Downloads\\Sample-Midterm-1-Data\\Sample-Midterm-1-Data\\demographic.csv\")\n",
    "demo1"
   ]
  },
  {
   "cell_type": "code",
   "execution_count": 63,
   "id": "89157e93",
   "metadata": {},
   "outputs": [
    {
     "data": {
      "text/html": [
       "<div>\n",
       "<style scoped>\n",
       "    .dataframe tbody tr th:only-of-type {\n",
       "        vertical-align: middle;\n",
       "    }\n",
       "\n",
       "    .dataframe tbody tr th {\n",
       "        vertical-align: top;\n",
       "    }\n",
       "\n",
       "    .dataframe thead th {\n",
       "        text-align: right;\n",
       "    }\n",
       "</style>\n",
       "<table border=\"1\" class=\"dataframe\">\n",
       "  <thead>\n",
       "    <tr style=\"text-align: right;\">\n",
       "      <th></th>\n",
       "      <th>age</th>\n",
       "      <th>gender</th>\n",
       "      <th>email</th>\n",
       "      <th>address</th>\n",
       "    </tr>\n",
       "  </thead>\n",
       "  <tbody>\n",
       "    <tr>\n",
       "      <th>0</th>\n",
       "      <td>18.0</td>\n",
       "      <td>M</td>\n",
       "      <td>NaN</td>\n",
       "      <td>HN</td>\n",
       "    </tr>\n",
       "    <tr>\n",
       "      <th>1</th>\n",
       "      <td>23.0</td>\n",
       "      <td>F</td>\n",
       "      <td>NaN</td>\n",
       "      <td>HP</td>\n",
       "    </tr>\n",
       "    <tr>\n",
       "      <th>2</th>\n",
       "      <td>37.0</td>\n",
       "      <td>M</td>\n",
       "      <td>abc@gmail.com</td>\n",
       "      <td>BG</td>\n",
       "    </tr>\n",
       "    <tr>\n",
       "      <th>3</th>\n",
       "      <td>40.0</td>\n",
       "      <td>F</td>\n",
       "      <td>qgiang.nguyen@gmail.com</td>\n",
       "      <td>BN</td>\n",
       "    </tr>\n",
       "    <tr>\n",
       "      <th>4</th>\n",
       "      <td>67.0</td>\n",
       "      <td>F</td>\n",
       "      <td>NaN</td>\n",
       "      <td>TPHCM</td>\n",
       "    </tr>\n",
       "    <tr>\n",
       "      <th>5</th>\n",
       "      <td>37.0</td>\n",
       "      <td>F</td>\n",
       "      <td>abc@yahoo.com.vn</td>\n",
       "      <td>BD</td>\n",
       "    </tr>\n",
       "  </tbody>\n",
       "</table>\n",
       "</div>"
      ],
      "text/plain": [
       "    age gender                    email address\n",
       "0  18.0      M                      NaN      HN\n",
       "1  23.0      F                      NaN      HP\n",
       "2  37.0      M            abc@gmail.com      BG\n",
       "3  40.0      F  qgiang.nguyen@gmail.com      BN\n",
       "4  67.0      F                      NaN   TPHCM\n",
       "5  37.0      F         abc@yahoo.com.vn      BD"
      ]
     },
     "execution_count": 63,
     "metadata": {},
     "output_type": "execute_result"
    }
   ],
   "source": [
    "demo1[demo1['email'] != np.nan]"
   ]
  },
  {
   "cell_type": "code",
   "execution_count": 62,
   "id": "a166d20e",
   "metadata": {},
   "outputs": [],
   "source": [
    "# demo1['email'] != pd.isnull(demo1['email'])"
   ]
  },
  {
   "cell_type": "code",
   "execution_count": 18,
   "id": "0f331864",
   "metadata": {},
   "outputs": [],
   "source": [
    "demo1['age'].fillna(demo1['age'].mean(), inplace = True)"
   ]
  },
  {
   "cell_type": "code",
   "execution_count": 19,
   "id": "99f9f645",
   "metadata": {},
   "outputs": [],
   "source": [
    "demo1['gender'].fillna(random.choice(list(demo1['gender'].mode())), inplace = True)"
   ]
  },
  {
   "cell_type": "code",
   "execution_count": 20,
   "id": "9addd535",
   "metadata": {},
   "outputs": [
    {
     "data": {
      "text/html": [
       "<div>\n",
       "<style scoped>\n",
       "    .dataframe tbody tr th:only-of-type {\n",
       "        vertical-align: middle;\n",
       "    }\n",
       "\n",
       "    .dataframe tbody tr th {\n",
       "        vertical-align: top;\n",
       "    }\n",
       "\n",
       "    .dataframe thead th {\n",
       "        text-align: right;\n",
       "    }\n",
       "</style>\n",
       "<table border=\"1\" class=\"dataframe\">\n",
       "  <thead>\n",
       "    <tr style=\"text-align: right;\">\n",
       "      <th></th>\n",
       "      <th>age</th>\n",
       "      <th>gender</th>\n",
       "      <th>email</th>\n",
       "      <th>address</th>\n",
       "    </tr>\n",
       "  </thead>\n",
       "  <tbody>\n",
       "    <tr>\n",
       "      <th>0</th>\n",
       "      <td>18.0</td>\n",
       "      <td>M</td>\n",
       "      <td>NaN</td>\n",
       "      <td>HN</td>\n",
       "    </tr>\n",
       "    <tr>\n",
       "      <th>1</th>\n",
       "      <td>23.0</td>\n",
       "      <td>F</td>\n",
       "      <td>NaN</td>\n",
       "      <td>HP</td>\n",
       "    </tr>\n",
       "    <tr>\n",
       "      <th>2</th>\n",
       "      <td>37.0</td>\n",
       "      <td>M</td>\n",
       "      <td>abc@gmail.com</td>\n",
       "      <td>BG</td>\n",
       "    </tr>\n",
       "    <tr>\n",
       "      <th>3</th>\n",
       "      <td>40.0</td>\n",
       "      <td>F</td>\n",
       "      <td>qgiang.nguyen@gmail.com</td>\n",
       "      <td>BN</td>\n",
       "    </tr>\n",
       "    <tr>\n",
       "      <th>4</th>\n",
       "      <td>67.0</td>\n",
       "      <td>F</td>\n",
       "      <td>NaN</td>\n",
       "      <td>TPHCM</td>\n",
       "    </tr>\n",
       "    <tr>\n",
       "      <th>5</th>\n",
       "      <td>37.0</td>\n",
       "      <td>F</td>\n",
       "      <td>abc@yahoo.com.vn</td>\n",
       "      <td>BD</td>\n",
       "    </tr>\n",
       "  </tbody>\n",
       "</table>\n",
       "</div>"
      ],
      "text/plain": [
       "    age gender                    email address\n",
       "0  18.0      M                      NaN      HN\n",
       "1  23.0      F                      NaN      HP\n",
       "2  37.0      M            abc@gmail.com      BG\n",
       "3  40.0      F  qgiang.nguyen@gmail.com      BN\n",
       "4  67.0      F                      NaN   TPHCM\n",
       "5  37.0      F         abc@yahoo.com.vn      BD"
      ]
     },
     "execution_count": 20,
     "metadata": {},
     "output_type": "execute_result"
    }
   ],
   "source": [
    "demo1"
   ]
  },
  {
   "cell_type": "markdown",
   "id": "8f95b719",
   "metadata": {},
   "source": [
    "### REVENUE dataset"
   ]
  },
  {
   "cell_type": "code",
   "execution_count": 21,
   "id": "fc75e042",
   "metadata": {
    "scrolled": true
   },
   "outputs": [
    {
     "data": {
      "text/html": [
       "<div>\n",
       "<style scoped>\n",
       "    .dataframe tbody tr th:only-of-type {\n",
       "        vertical-align: middle;\n",
       "    }\n",
       "\n",
       "    .dataframe tbody tr th {\n",
       "        vertical-align: top;\n",
       "    }\n",
       "\n",
       "    .dataframe thead th {\n",
       "        text-align: right;\n",
       "    }\n",
       "</style>\n",
       "<table border=\"1\" class=\"dataframe\">\n",
       "  <thead>\n",
       "    <tr style=\"text-align: right;\">\n",
       "      <th></th>\n",
       "      <th>CustomerID</th>\n",
       "      <th>Revenue</th>\n",
       "      <th>date</th>\n",
       "    </tr>\n",
       "  </thead>\n",
       "  <tbody>\n",
       "    <tr>\n",
       "      <th>0</th>\n",
       "      <td>R1001</td>\n",
       "      <td>30</td>\n",
       "      <td>2020-12-01</td>\n",
       "    </tr>\n",
       "    <tr>\n",
       "      <th>1</th>\n",
       "      <td>W1001</td>\n",
       "      <td>2000</td>\n",
       "      <td>2021-05-01</td>\n",
       "    </tr>\n",
       "    <tr>\n",
       "      <th>2</th>\n",
       "      <td>W1001</td>\n",
       "      <td>2200</td>\n",
       "      <td>2021-05-01</td>\n",
       "    </tr>\n",
       "    <tr>\n",
       "      <th>3</th>\n",
       "      <td>R1002</td>\n",
       "      <td>150</td>\n",
       "      <td>2021-08-01</td>\n",
       "    </tr>\n",
       "    <tr>\n",
       "      <th>4</th>\n",
       "      <td>R1003</td>\n",
       "      <td>270</td>\n",
       "      <td>2020-09-01</td>\n",
       "    </tr>\n",
       "    <tr>\n",
       "      <th>5</th>\n",
       "      <td>R1004</td>\n",
       "      <td>50</td>\n",
       "      <td>2021-12-01</td>\n",
       "    </tr>\n",
       "    <tr>\n",
       "      <th>6</th>\n",
       "      <td>R1001</td>\n",
       "      <td>100</td>\n",
       "      <td>2021-04-01</td>\n",
       "    </tr>\n",
       "    <tr>\n",
       "      <th>7</th>\n",
       "      <td>W1002</td>\n",
       "      <td>5000</td>\n",
       "      <td>2021-09-01</td>\n",
       "    </tr>\n",
       "  </tbody>\n",
       "</table>\n",
       "</div>"
      ],
      "text/plain": [
       "  CustomerID  Revenue        date\n",
       "0      R1001       30  2020-12-01\n",
       "1      W1001     2000  2021-05-01\n",
       "2      W1001     2200  2021-05-01\n",
       "3      R1002      150  2021-08-01\n",
       "4      R1003      270  2020-09-01\n",
       "5      R1004       50  2021-12-01\n",
       "6      R1001      100  2021-04-01\n",
       "7      W1002     5000  2021-09-01"
      ]
     },
     "execution_count": 21,
     "metadata": {},
     "output_type": "execute_result"
    }
   ],
   "source": [
    "rev = pd.read_csv(r\"C:\\Users\\KyThuat88\\Downloads\\Sample-Midterm-1-Data\\Sample-Midterm-1-Data\\revenue.csv\")\n",
    "rev"
   ]
  },
  {
   "cell_type": "code",
   "execution_count": 22,
   "id": "21c802df",
   "metadata": {},
   "outputs": [
    {
     "data": {
      "text/html": [
       "<div>\n",
       "<style scoped>\n",
       "    .dataframe tbody tr th:only-of-type {\n",
       "        vertical-align: middle;\n",
       "    }\n",
       "\n",
       "    .dataframe tbody tr th {\n",
       "        vertical-align: top;\n",
       "    }\n",
       "\n",
       "    .dataframe thead th {\n",
       "        text-align: right;\n",
       "    }\n",
       "</style>\n",
       "<table border=\"1\" class=\"dataframe\">\n",
       "  <thead>\n",
       "    <tr style=\"text-align: right;\">\n",
       "      <th></th>\n",
       "      <th>CustomerID</th>\n",
       "      <th>date</th>\n",
       "    </tr>\n",
       "  </thead>\n",
       "  <tbody>\n",
       "    <tr>\n",
       "      <th>0</th>\n",
       "      <td>R1001</td>\n",
       "      <td>2020-12-01</td>\n",
       "    </tr>\n",
       "    <tr>\n",
       "      <th>1</th>\n",
       "      <td>W1001</td>\n",
       "      <td>2021-05-01</td>\n",
       "    </tr>\n",
       "    <tr>\n",
       "      <th>2</th>\n",
       "      <td>W1001</td>\n",
       "      <td>2021-05-01</td>\n",
       "    </tr>\n",
       "    <tr>\n",
       "      <th>3</th>\n",
       "      <td>R1002</td>\n",
       "      <td>2021-08-01</td>\n",
       "    </tr>\n",
       "    <tr>\n",
       "      <th>4</th>\n",
       "      <td>R1003</td>\n",
       "      <td>2020-09-01</td>\n",
       "    </tr>\n",
       "    <tr>\n",
       "      <th>5</th>\n",
       "      <td>R1004</td>\n",
       "      <td>2021-12-01</td>\n",
       "    </tr>\n",
       "    <tr>\n",
       "      <th>6</th>\n",
       "      <td>R1001</td>\n",
       "      <td>2021-04-01</td>\n",
       "    </tr>\n",
       "    <tr>\n",
       "      <th>7</th>\n",
       "      <td>W1002</td>\n",
       "      <td>2021-09-01</td>\n",
       "    </tr>\n",
       "  </tbody>\n",
       "</table>\n",
       "</div>"
      ],
      "text/plain": [
       "  CustomerID        date\n",
       "0      R1001  2020-12-01\n",
       "1      W1001  2021-05-01\n",
       "2      W1001  2021-05-01\n",
       "3      R1002  2021-08-01\n",
       "4      R1003  2020-09-01\n",
       "5      R1004  2021-12-01\n",
       "6      R1001  2021-04-01\n",
       "7      W1002  2021-09-01"
      ]
     },
     "execution_count": 22,
     "metadata": {},
     "output_type": "execute_result"
    }
   ],
   "source": [
    "#1.For typing errors, in this dataset, we see that some customers' revenue appears more than once for a specific month. We need to delete one and keep the row with a larger income.\n",
    "rev[['CustomerID','date']]"
   ]
  },
  {
   "cell_type": "code",
   "execution_count": 23,
   "id": "0a0978c0",
   "metadata": {},
   "outputs": [],
   "source": [
    "rev = rev.sort_values('Revenue', ascending = False).drop_duplicates(['CustomerID','date'])"
   ]
  },
  {
   "cell_type": "code",
   "execution_count": 24,
   "id": "9aa8cbd4",
   "metadata": {},
   "outputs": [
    {
     "data": {
      "text/html": [
       "<div>\n",
       "<style scoped>\n",
       "    .dataframe tbody tr th:only-of-type {\n",
       "        vertical-align: middle;\n",
       "    }\n",
       "\n",
       "    .dataframe tbody tr th {\n",
       "        vertical-align: top;\n",
       "    }\n",
       "\n",
       "    .dataframe thead th {\n",
       "        text-align: right;\n",
       "    }\n",
       "</style>\n",
       "<table border=\"1\" class=\"dataframe\">\n",
       "  <thead>\n",
       "    <tr style=\"text-align: right;\">\n",
       "      <th></th>\n",
       "      <th>CustomerID</th>\n",
       "      <th>Revenue</th>\n",
       "      <th>date</th>\n",
       "    </tr>\n",
       "  </thead>\n",
       "  <tbody>\n",
       "    <tr>\n",
       "      <th>7</th>\n",
       "      <td>W1002</td>\n",
       "      <td>5000</td>\n",
       "      <td>2021-09-01</td>\n",
       "    </tr>\n",
       "    <tr>\n",
       "      <th>2</th>\n",
       "      <td>W1001</td>\n",
       "      <td>2200</td>\n",
       "      <td>2021-05-01</td>\n",
       "    </tr>\n",
       "    <tr>\n",
       "      <th>4</th>\n",
       "      <td>R1003</td>\n",
       "      <td>270</td>\n",
       "      <td>2020-09-01</td>\n",
       "    </tr>\n",
       "    <tr>\n",
       "      <th>3</th>\n",
       "      <td>R1002</td>\n",
       "      <td>150</td>\n",
       "      <td>2021-08-01</td>\n",
       "    </tr>\n",
       "    <tr>\n",
       "      <th>6</th>\n",
       "      <td>R1001</td>\n",
       "      <td>100</td>\n",
       "      <td>2021-04-01</td>\n",
       "    </tr>\n",
       "    <tr>\n",
       "      <th>5</th>\n",
       "      <td>R1004</td>\n",
       "      <td>50</td>\n",
       "      <td>2021-12-01</td>\n",
       "    </tr>\n",
       "    <tr>\n",
       "      <th>0</th>\n",
       "      <td>R1001</td>\n",
       "      <td>30</td>\n",
       "      <td>2020-12-01</td>\n",
       "    </tr>\n",
       "  </tbody>\n",
       "</table>\n",
       "</div>"
      ],
      "text/plain": [
       "  CustomerID  Revenue        date\n",
       "7      W1002     5000  2021-09-01\n",
       "2      W1001     2200  2021-05-01\n",
       "4      R1003      270  2020-09-01\n",
       "3      R1002      150  2021-08-01\n",
       "6      R1001      100  2021-04-01\n",
       "5      R1004       50  2021-12-01\n",
       "0      R1001       30  2020-12-01"
      ]
     },
     "execution_count": 24,
     "metadata": {},
     "output_type": "execute_result"
    }
   ],
   "source": [
    "rev"
   ]
  },
  {
   "cell_type": "code",
   "execution_count": 25,
   "id": "04cc8a03",
   "metadata": {},
   "outputs": [],
   "source": [
    "# 2.In this dataset, we would like to know the latest revenue created by each customer and the time. We would remove rows that contain a CustomerID already listed earlier. Do it using the drop_duplicates method"
   ]
  },
  {
   "cell_type": "code",
   "execution_count": 26,
   "id": "a1b29e17",
   "metadata": {},
   "outputs": [],
   "source": [
    "rev = rev.sort_values('date').drop_duplicates(['CustomerID'])"
   ]
  },
  {
   "cell_type": "code",
   "execution_count": 27,
   "id": "5490a361",
   "metadata": {},
   "outputs": [
    {
     "data": {
      "text/html": [
       "<div>\n",
       "<style scoped>\n",
       "    .dataframe tbody tr th:only-of-type {\n",
       "        vertical-align: middle;\n",
       "    }\n",
       "\n",
       "    .dataframe tbody tr th {\n",
       "        vertical-align: top;\n",
       "    }\n",
       "\n",
       "    .dataframe thead th {\n",
       "        text-align: right;\n",
       "    }\n",
       "</style>\n",
       "<table border=\"1\" class=\"dataframe\">\n",
       "  <thead>\n",
       "    <tr style=\"text-align: right;\">\n",
       "      <th></th>\n",
       "      <th>CustomerID</th>\n",
       "      <th>Revenue</th>\n",
       "      <th>date</th>\n",
       "    </tr>\n",
       "  </thead>\n",
       "  <tbody>\n",
       "    <tr>\n",
       "      <th>4</th>\n",
       "      <td>R1003</td>\n",
       "      <td>270</td>\n",
       "      <td>2020-09-01</td>\n",
       "    </tr>\n",
       "    <tr>\n",
       "      <th>0</th>\n",
       "      <td>R1001</td>\n",
       "      <td>30</td>\n",
       "      <td>2020-12-01</td>\n",
       "    </tr>\n",
       "    <tr>\n",
       "      <th>2</th>\n",
       "      <td>W1001</td>\n",
       "      <td>2200</td>\n",
       "      <td>2021-05-01</td>\n",
       "    </tr>\n",
       "    <tr>\n",
       "      <th>3</th>\n",
       "      <td>R1002</td>\n",
       "      <td>150</td>\n",
       "      <td>2021-08-01</td>\n",
       "    </tr>\n",
       "    <tr>\n",
       "      <th>7</th>\n",
       "      <td>W1002</td>\n",
       "      <td>5000</td>\n",
       "      <td>2021-09-01</td>\n",
       "    </tr>\n",
       "    <tr>\n",
       "      <th>5</th>\n",
       "      <td>R1004</td>\n",
       "      <td>50</td>\n",
       "      <td>2021-12-01</td>\n",
       "    </tr>\n",
       "  </tbody>\n",
       "</table>\n",
       "</div>"
      ],
      "text/plain": [
       "  CustomerID  Revenue        date\n",
       "4      R1003      270  2020-09-01\n",
       "0      R1001       30  2020-12-01\n",
       "2      W1001     2200  2021-05-01\n",
       "3      R1002      150  2021-08-01\n",
       "7      W1002     5000  2021-09-01\n",
       "5      R1004       50  2021-12-01"
      ]
     },
     "execution_count": 27,
     "metadata": {},
     "output_type": "execute_result"
    }
   ],
   "source": [
    "rev"
   ]
  },
  {
   "cell_type": "code",
   "execution_count": 69,
   "id": "aaed2575",
   "metadata": {},
   "outputs": [
    {
     "data": {
      "text/html": [
       "<div>\n",
       "<style scoped>\n",
       "    .dataframe tbody tr th:only-of-type {\n",
       "        vertical-align: middle;\n",
       "    }\n",
       "\n",
       "    .dataframe tbody tr th {\n",
       "        vertical-align: top;\n",
       "    }\n",
       "\n",
       "    .dataframe thead th {\n",
       "        text-align: right;\n",
       "    }\n",
       "</style>\n",
       "<table border=\"1\" class=\"dataframe\">\n",
       "  <thead>\n",
       "    <tr style=\"text-align: right;\">\n",
       "      <th></th>\n",
       "      <th>CustomerID</th>\n",
       "      <th>Revenue</th>\n",
       "      <th>date</th>\n",
       "      <th>month</th>\n",
       "    </tr>\n",
       "  </thead>\n",
       "  <tbody>\n",
       "    <tr>\n",
       "      <th>4</th>\n",
       "      <td>R1003</td>\n",
       "      <td>270</td>\n",
       "      <td>2020-09-01</td>\n",
       "      <td>9</td>\n",
       "    </tr>\n",
       "    <tr>\n",
       "      <th>0</th>\n",
       "      <td>R1001</td>\n",
       "      <td>30</td>\n",
       "      <td>2020-12-01</td>\n",
       "      <td>12</td>\n",
       "    </tr>\n",
       "    <tr>\n",
       "      <th>2</th>\n",
       "      <td>W1001</td>\n",
       "      <td>2200</td>\n",
       "      <td>2021-05-01</td>\n",
       "      <td>5</td>\n",
       "    </tr>\n",
       "    <tr>\n",
       "      <th>3</th>\n",
       "      <td>R1002</td>\n",
       "      <td>150</td>\n",
       "      <td>2021-08-01</td>\n",
       "      <td>8</td>\n",
       "    </tr>\n",
       "    <tr>\n",
       "      <th>7</th>\n",
       "      <td>W1002</td>\n",
       "      <td>5000</td>\n",
       "      <td>2021-09-01</td>\n",
       "      <td>9</td>\n",
       "    </tr>\n",
       "    <tr>\n",
       "      <th>5</th>\n",
       "      <td>R1004</td>\n",
       "      <td>50</td>\n",
       "      <td>2021-12-01</td>\n",
       "      <td>12</td>\n",
       "    </tr>\n",
       "  </tbody>\n",
       "</table>\n",
       "</div>"
      ],
      "text/plain": [
       "  CustomerID  Revenue        date  month\n",
       "4      R1003      270  2020-09-01      9\n",
       "0      R1001       30  2020-12-01     12\n",
       "2      W1001     2200  2021-05-01      5\n",
       "3      R1002      150  2021-08-01      8\n",
       "7      W1002     5000  2021-09-01      9\n",
       "5      R1004       50  2021-12-01     12"
      ]
     },
     "execution_count": 69,
     "metadata": {},
     "output_type": "execute_result"
    }
   ],
   "source": [
    "rev['month'] = pd.to_datetime(rev['date']).dt.month\n",
    "rev"
   ]
  },
  {
   "cell_type": "code",
   "execution_count": 70,
   "id": "23f8f13c",
   "metadata": {},
   "outputs": [
    {
     "name": "stdout",
     "output_type": "stream",
     "text": [
      "<class 'pandas.core.frame.DataFrame'>\n",
      "Int64Index: 6 entries, 4 to 5\n",
      "Data columns (total 4 columns):\n",
      " #   Column      Non-Null Count  Dtype \n",
      "---  ------      --------------  ----- \n",
      " 0   CustomerID  6 non-null      object\n",
      " 1   Revenue     6 non-null      int64 \n",
      " 2   date        6 non-null      object\n",
      " 3   month       6 non-null      int64 \n",
      "dtypes: int64(2), object(2)\n",
      "memory usage: 240.0+ bytes\n"
     ]
    }
   ],
   "source": [
    "rev.info()"
   ]
  },
  {
   "cell_type": "markdown",
   "id": "995393b0",
   "metadata": {},
   "source": [
    "### APP.CSV"
   ]
  },
  {
   "cell_type": "code",
   "execution_count": 64,
   "id": "279d24ca",
   "metadata": {},
   "outputs": [
    {
     "data": {
      "text/html": [
       "<div>\n",
       "<style scoped>\n",
       "    .dataframe tbody tr th:only-of-type {\n",
       "        vertical-align: middle;\n",
       "    }\n",
       "\n",
       "    .dataframe tbody tr th {\n",
       "        vertical-align: top;\n",
       "    }\n",
       "\n",
       "    .dataframe thead th {\n",
       "        text-align: right;\n",
       "    }\n",
       "</style>\n",
       "<table border=\"1\" class=\"dataframe\">\n",
       "  <thead>\n",
       "    <tr style=\"text-align: right;\">\n",
       "      <th></th>\n",
       "      <th>app name</th>\n",
       "      <th>price</th>\n",
       "    </tr>\n",
       "  </thead>\n",
       "  <tbody>\n",
       "    <tr>\n",
       "      <th>0</th>\n",
       "      <td>Latlux</td>\n",
       "      <td>£49.70</td>\n",
       "    </tr>\n",
       "    <tr>\n",
       "      <th>1</th>\n",
       "      <td>Span</td>\n",
       "      <td>$12.22</td>\n",
       "    </tr>\n",
       "    <tr>\n",
       "      <th>2</th>\n",
       "      <td>Bitwolf</td>\n",
       "      <td>$17,30</td>\n",
       "    </tr>\n",
       "    <tr>\n",
       "      <th>3</th>\n",
       "      <td>Sonsing</td>\n",
       "      <td>£10.71</td>\n",
       "    </tr>\n",
       "    <tr>\n",
       "      <th>4</th>\n",
       "      <td>Zontrax</td>\n",
       "      <td>¥48.41</td>\n",
       "    </tr>\n",
       "  </tbody>\n",
       "</table>\n",
       "</div>"
      ],
      "text/plain": [
       "  app name    price\n",
       "0   Latlux   £49.70\n",
       "1     Span  $12.22 \n",
       "2  Bitwolf   $17,30\n",
       "3  Sonsing   £10.71\n",
       "4  Zontrax   ¥48.41"
      ]
     },
     "execution_count": 64,
     "metadata": {},
     "output_type": "execute_result"
    }
   ],
   "source": [
    "app = pd.read_csv(r\"C:\\Users\\KyThuat88\\Downloads\\Sample-Midterm-1-Data\\Sample-Midterm-1-Data\\apps.csv\", encoding = \"Latin\")\n",
    "app"
   ]
  },
  {
   "cell_type": "code",
   "execution_count": 65,
   "id": "8c7403cd",
   "metadata": {},
   "outputs": [],
   "source": [
    "#1. Create a new column named currency whose values are the first character of the price column\n",
    "app['Currency'] = app['price'].str.strip().str.extract('(\\D)')"
   ]
  },
  {
   "cell_type": "code",
   "execution_count": 66,
   "id": "b2bc976a",
   "metadata": {},
   "outputs": [
    {
     "data": {
      "text/html": [
       "<div>\n",
       "<style scoped>\n",
       "    .dataframe tbody tr th:only-of-type {\n",
       "        vertical-align: middle;\n",
       "    }\n",
       "\n",
       "    .dataframe tbody tr th {\n",
       "        vertical-align: top;\n",
       "    }\n",
       "\n",
       "    .dataframe thead th {\n",
       "        text-align: right;\n",
       "    }\n",
       "</style>\n",
       "<table border=\"1\" class=\"dataframe\">\n",
       "  <thead>\n",
       "    <tr style=\"text-align: right;\">\n",
       "      <th></th>\n",
       "      <th>app name</th>\n",
       "      <th>price</th>\n",
       "      <th>Currency</th>\n",
       "    </tr>\n",
       "  </thead>\n",
       "  <tbody>\n",
       "    <tr>\n",
       "      <th>0</th>\n",
       "      <td>Latlux</td>\n",
       "      <td>£49.70</td>\n",
       "      <td>£</td>\n",
       "    </tr>\n",
       "    <tr>\n",
       "      <th>1</th>\n",
       "      <td>Span</td>\n",
       "      <td>$12.22</td>\n",
       "      <td>$</td>\n",
       "    </tr>\n",
       "    <tr>\n",
       "      <th>2</th>\n",
       "      <td>Bitwolf</td>\n",
       "      <td>$17,30</td>\n",
       "      <td>$</td>\n",
       "    </tr>\n",
       "    <tr>\n",
       "      <th>3</th>\n",
       "      <td>Sonsing</td>\n",
       "      <td>£10.71</td>\n",
       "      <td>£</td>\n",
       "    </tr>\n",
       "    <tr>\n",
       "      <th>4</th>\n",
       "      <td>Zontrax</td>\n",
       "      <td>¥48.41</td>\n",
       "      <td>¥</td>\n",
       "    </tr>\n",
       "  </tbody>\n",
       "</table>\n",
       "</div>"
      ],
      "text/plain": [
       "  app name    price Currency\n",
       "0   Latlux   £49.70        £\n",
       "1     Span  $12.22         $\n",
       "2  Bitwolf   $17,30        $\n",
       "3  Sonsing   £10.71        £\n",
       "4  Zontrax   ¥48.41        ¥"
      ]
     },
     "execution_count": 66,
     "metadata": {},
     "output_type": "execute_result"
    }
   ],
   "source": [
    "app"
   ]
  },
  {
   "cell_type": "markdown",
   "id": "de271053",
   "metadata": {},
   "source": [
    "2. Transform the price column into floating-point number by:\n",
    "* Deleting the currency characters\n",
    "* Replacing commas by dots\n",
    "* Casting the column to float"
   ]
  },
  {
   "cell_type": "code",
   "execution_count": 67,
   "id": "7af1e612",
   "metadata": {},
   "outputs": [
    {
     "data": {
      "text/html": [
       "<div>\n",
       "<style scoped>\n",
       "    .dataframe tbody tr th:only-of-type {\n",
       "        vertical-align: middle;\n",
       "    }\n",
       "\n",
       "    .dataframe tbody tr th {\n",
       "        vertical-align: top;\n",
       "    }\n",
       "\n",
       "    .dataframe thead th {\n",
       "        text-align: right;\n",
       "    }\n",
       "</style>\n",
       "<table border=\"1\" class=\"dataframe\">\n",
       "  <thead>\n",
       "    <tr style=\"text-align: right;\">\n",
       "      <th></th>\n",
       "      <th>app name</th>\n",
       "      <th>price</th>\n",
       "      <th>Currency</th>\n",
       "    </tr>\n",
       "  </thead>\n",
       "  <tbody>\n",
       "    <tr>\n",
       "      <th>0</th>\n",
       "      <td>Latlux</td>\n",
       "      <td>49.70</td>\n",
       "      <td>£</td>\n",
       "    </tr>\n",
       "    <tr>\n",
       "      <th>1</th>\n",
       "      <td>Span</td>\n",
       "      <td>12.22</td>\n",
       "      <td>$</td>\n",
       "    </tr>\n",
       "    <tr>\n",
       "      <th>2</th>\n",
       "      <td>Bitwolf</td>\n",
       "      <td>17,30</td>\n",
       "      <td>$</td>\n",
       "    </tr>\n",
       "    <tr>\n",
       "      <th>3</th>\n",
       "      <td>Sonsing</td>\n",
       "      <td>10.71</td>\n",
       "      <td>£</td>\n",
       "    </tr>\n",
       "    <tr>\n",
       "      <th>4</th>\n",
       "      <td>Zontrax</td>\n",
       "      <td>48.41</td>\n",
       "      <td>¥</td>\n",
       "    </tr>\n",
       "  </tbody>\n",
       "</table>\n",
       "</div>"
      ],
      "text/plain": [
       "  app name  price Currency\n",
       "0   Latlux  49.70        £\n",
       "1     Span  12.22        $\n",
       "2  Bitwolf  17,30        $\n",
       "3  Sonsing  10.71        £\n",
       "4  Zontrax  48.41        ¥"
      ]
     },
     "execution_count": 67,
     "metadata": {},
     "output_type": "execute_result"
    }
   ],
   "source": [
    "app['price'] = app['price'].str.extract('(\\d+.\\d+)')\n",
    "app"
   ]
  },
  {
   "cell_type": "code",
   "execution_count": 68,
   "id": "d1014f41",
   "metadata": {},
   "outputs": [
    {
     "data": {
      "text/html": [
       "<div>\n",
       "<style scoped>\n",
       "    .dataframe tbody tr th:only-of-type {\n",
       "        vertical-align: middle;\n",
       "    }\n",
       "\n",
       "    .dataframe tbody tr th {\n",
       "        vertical-align: top;\n",
       "    }\n",
       "\n",
       "    .dataframe thead th {\n",
       "        text-align: right;\n",
       "    }\n",
       "</style>\n",
       "<table border=\"1\" class=\"dataframe\">\n",
       "  <thead>\n",
       "    <tr style=\"text-align: right;\">\n",
       "      <th></th>\n",
       "      <th>app name</th>\n",
       "      <th>price</th>\n",
       "      <th>Currency</th>\n",
       "    </tr>\n",
       "  </thead>\n",
       "  <tbody>\n",
       "    <tr>\n",
       "      <th>0</th>\n",
       "      <td>Latlux</td>\n",
       "      <td>49.70</td>\n",
       "      <td>£</td>\n",
       "    </tr>\n",
       "    <tr>\n",
       "      <th>1</th>\n",
       "      <td>Span</td>\n",
       "      <td>12.22</td>\n",
       "      <td>$</td>\n",
       "    </tr>\n",
       "    <tr>\n",
       "      <th>2</th>\n",
       "      <td>Bitwolf</td>\n",
       "      <td>17.30</td>\n",
       "      <td>$</td>\n",
       "    </tr>\n",
       "    <tr>\n",
       "      <th>3</th>\n",
       "      <td>Sonsing</td>\n",
       "      <td>10.71</td>\n",
       "      <td>£</td>\n",
       "    </tr>\n",
       "    <tr>\n",
       "      <th>4</th>\n",
       "      <td>Zontrax</td>\n",
       "      <td>48.41</td>\n",
       "      <td>¥</td>\n",
       "    </tr>\n",
       "  </tbody>\n",
       "</table>\n",
       "</div>"
      ],
      "text/plain": [
       "  app name  price Currency\n",
       "0   Latlux  49.70        £\n",
       "1     Span  12.22        $\n",
       "2  Bitwolf  17.30        $\n",
       "3  Sonsing  10.71        £\n",
       "4  Zontrax  48.41        ¥"
      ]
     },
     "execution_count": 68,
     "metadata": {},
     "output_type": "execute_result"
    }
   ],
   "source": [
    "app['price'] = app['price'].str.replace(',','.')\n",
    "app"
   ]
  },
  {
   "cell_type": "code",
   "execution_count": 33,
   "id": "9bc17aae",
   "metadata": {},
   "outputs": [],
   "source": [
    "app['price'] = app['price'].astype(float)"
   ]
  },
  {
   "cell_type": "code",
   "execution_count": 34,
   "id": "263d6d43",
   "metadata": {},
   "outputs": [],
   "source": [
    "#3. Make currency column a categorical\n",
    "app['Currency'] = app['Currency'].astype('category')"
   ]
  },
  {
   "cell_type": "code",
   "execution_count": 35,
   "id": "49fff8af",
   "metadata": {},
   "outputs": [
    {
     "name": "stdout",
     "output_type": "stream",
     "text": [
      "<class 'pandas.core.frame.DataFrame'>\n",
      "RangeIndex: 5 entries, 0 to 4\n",
      "Data columns (total 3 columns):\n",
      " #   Column    Non-Null Count  Dtype   \n",
      "---  ------    --------------  -----   \n",
      " 0   app name  5 non-null      object  \n",
      " 1   price     5 non-null      float64 \n",
      " 2   Currency  5 non-null      category\n",
      "dtypes: category(1), float64(1), object(1)\n",
      "memory usage: 345.0+ bytes\n"
     ]
    }
   ],
   "source": [
    "app.info()"
   ]
  },
  {
   "cell_type": "code",
   "execution_count": 36,
   "id": "15623c67",
   "metadata": {},
   "outputs": [
    {
     "data": {
      "text/html": [
       "<div>\n",
       "<style scoped>\n",
       "    .dataframe tbody tr th:only-of-type {\n",
       "        vertical-align: middle;\n",
       "    }\n",
       "\n",
       "    .dataframe tbody tr th {\n",
       "        vertical-align: top;\n",
       "    }\n",
       "\n",
       "    .dataframe thead th {\n",
       "        text-align: right;\n",
       "    }\n",
       "</style>\n",
       "<table border=\"1\" class=\"dataframe\">\n",
       "  <thead>\n",
       "    <tr style=\"text-align: right;\">\n",
       "      <th></th>\n",
       "      <th>ID</th>\n",
       "      <th>reve</th>\n",
       "      <th>datee</th>\n",
       "    </tr>\n",
       "  </thead>\n",
       "  <tbody>\n",
       "    <tr>\n",
       "      <th>0</th>\n",
       "      <td>a</td>\n",
       "      <td>1000</td>\n",
       "      <td>mon</td>\n",
       "    </tr>\n",
       "    <tr>\n",
       "      <th>1</th>\n",
       "      <td>b</td>\n",
       "      <td>200</td>\n",
       "      <td>tues</td>\n",
       "    </tr>\n",
       "    <tr>\n",
       "      <th>2</th>\n",
       "      <td>ab</td>\n",
       "      <td>1800</td>\n",
       "      <td>wed</td>\n",
       "    </tr>\n",
       "    <tr>\n",
       "      <th>3</th>\n",
       "      <td>a</td>\n",
       "      <td>800</td>\n",
       "      <td>mon</td>\n",
       "    </tr>\n",
       "    <tr>\n",
       "      <th>4</th>\n",
       "      <td>b</td>\n",
       "      <td>400</td>\n",
       "      <td>tues</td>\n",
       "    </tr>\n",
       "  </tbody>\n",
       "</table>\n",
       "</div>"
      ],
      "text/plain": [
       "   ID  reve datee\n",
       "0   a  1000   mon\n",
       "1   b   200  tues\n",
       "2  ab  1800   wed\n",
       "3   a   800   mon\n",
       "4   b   400  tues"
      ]
     },
     "execution_count": 36,
     "metadata": {},
     "output_type": "execute_result"
    }
   ],
   "source": [
    "test = pd.DataFrame({'ID':['a', 'b', 'ab','a','b'], 'reve':[1000,200, 1800, 800, 400], 'datee': ['mon', 'tues', 'wed', 'mon','tues']})\n",
    "test"
   ]
  },
  {
   "cell_type": "markdown",
   "id": "fd692e58",
   "metadata": {},
   "source": [
    "### IV. PEOPLE.CSV"
   ]
  },
  {
   "cell_type": "code",
   "execution_count": 37,
   "id": "96a94941",
   "metadata": {},
   "outputs": [
    {
     "data": {
      "text/html": [
       "<div>\n",
       "<style scoped>\n",
       "    .dataframe tbody tr th:only-of-type {\n",
       "        vertical-align: middle;\n",
       "    }\n",
       "\n",
       "    .dataframe tbody tr th {\n",
       "        vertical-align: top;\n",
       "    }\n",
       "\n",
       "    .dataframe thead th {\n",
       "        text-align: right;\n",
       "    }\n",
       "</style>\n",
       "<table border=\"1\" class=\"dataframe\">\n",
       "  <thead>\n",
       "    <tr style=\"text-align: right;\">\n",
       "      <th></th>\n",
       "      <th>name</th>\n",
       "      <th>phone number</th>\n",
       "    </tr>\n",
       "  </thead>\n",
       "  <tbody>\n",
       "    <tr>\n",
       "      <th>0</th>\n",
       "      <td>Pernell</td>\n",
       "      <td>389440066</td>\n",
       "    </tr>\n",
       "    <tr>\n",
       "      <th>1</th>\n",
       "      <td>Milena</td>\n",
       "      <td>84914208888</td>\n",
       "    </tr>\n",
       "    <tr>\n",
       "      <th>2</th>\n",
       "      <td>Terrijo</td>\n",
       "      <td>931999666</td>\n",
       "    </tr>\n",
       "    <tr>\n",
       "      <th>3</th>\n",
       "      <td>Carmon</td>\n",
       "      <td>974768936</td>\n",
       "    </tr>\n",
       "    <tr>\n",
       "      <th>4</th>\n",
       "      <td>Cornelia</td>\n",
       "      <td>84346663333</td>\n",
       "    </tr>\n",
       "  </tbody>\n",
       "</table>\n",
       "</div>"
      ],
      "text/plain": [
       "       name  phone number\n",
       "0   Pernell     389440066\n",
       "1    Milena   84914208888\n",
       "2   Terrijo     931999666\n",
       "3    Carmon     974768936\n",
       "4  Cornelia   84346663333"
      ]
     },
     "execution_count": 37,
     "metadata": {},
     "output_type": "execute_result"
    }
   ],
   "source": [
    "people = pd.read_csv(r\"C:\\Users\\KyThuat88\\Downloads\\Sample-Midterm-1-Data\\Sample-Midterm-1-Data\\people.csv\")\n",
    "people"
   ]
  },
  {
   "cell_type": "code",
   "execution_count": 38,
   "id": "6a3cd723",
   "metadata": {},
   "outputs": [],
   "source": [
    "#2. Format the phone number column so that each row uses the format 0ddddddddd where d is a digit. For ex: 0389440066 or 0914208888"
   ]
  },
  {
   "cell_type": "code",
   "execution_count": 39,
   "id": "54e7e511",
   "metadata": {},
   "outputs": [],
   "source": [
    "people['phone number'] = people['phone number'].astype('str').str.extract('([0-9]{9}$)')"
   ]
  },
  {
   "cell_type": "code",
   "execution_count": 40,
   "id": "2047f156",
   "metadata": {},
   "outputs": [],
   "source": [
    "people['phone number'] = people['phone number'].apply(lambda x: '0' + str(x))"
   ]
  },
  {
   "cell_type": "code",
   "execution_count": 41,
   "id": "96d1346a",
   "metadata": {},
   "outputs": [
    {
     "data": {
      "text/html": [
       "<div>\n",
       "<style scoped>\n",
       "    .dataframe tbody tr th:only-of-type {\n",
       "        vertical-align: middle;\n",
       "    }\n",
       "\n",
       "    .dataframe tbody tr th {\n",
       "        vertical-align: top;\n",
       "    }\n",
       "\n",
       "    .dataframe thead th {\n",
       "        text-align: right;\n",
       "    }\n",
       "</style>\n",
       "<table border=\"1\" class=\"dataframe\">\n",
       "  <thead>\n",
       "    <tr style=\"text-align: right;\">\n",
       "      <th></th>\n",
       "      <th>name</th>\n",
       "      <th>phone number</th>\n",
       "    </tr>\n",
       "  </thead>\n",
       "  <tbody>\n",
       "    <tr>\n",
       "      <th>0</th>\n",
       "      <td>Pernell</td>\n",
       "      <td>0389440066</td>\n",
       "    </tr>\n",
       "    <tr>\n",
       "      <th>1</th>\n",
       "      <td>Milena</td>\n",
       "      <td>0914208888</td>\n",
       "    </tr>\n",
       "    <tr>\n",
       "      <th>2</th>\n",
       "      <td>Terrijo</td>\n",
       "      <td>0931999666</td>\n",
       "    </tr>\n",
       "    <tr>\n",
       "      <th>3</th>\n",
       "      <td>Carmon</td>\n",
       "      <td>0974768936</td>\n",
       "    </tr>\n",
       "    <tr>\n",
       "      <th>4</th>\n",
       "      <td>Cornelia</td>\n",
       "      <td>0346663333</td>\n",
       "    </tr>\n",
       "  </tbody>\n",
       "</table>\n",
       "</div>"
      ],
      "text/plain": [
       "       name phone number\n",
       "0   Pernell   0389440066\n",
       "1    Milena   0914208888\n",
       "2   Terrijo   0931999666\n",
       "3    Carmon   0974768936\n",
       "4  Cornelia   0346663333"
      ]
     },
     "execution_count": 41,
     "metadata": {},
     "output_type": "execute_result"
    }
   ],
   "source": [
    "people"
   ]
  },
  {
   "cell_type": "code",
   "execution_count": null,
   "id": "093c62b9",
   "metadata": {},
   "outputs": [],
   "source": [
    "#z.fil"
   ]
  },
  {
   "cell_type": "markdown",
   "id": "2192e331",
   "metadata": {},
   "source": [
    "### V. BIRTHDAY"
   ]
  },
  {
   "cell_type": "code",
   "execution_count": 72,
   "id": "d3870539",
   "metadata": {},
   "outputs": [
    {
     "data": {
      "text/html": [
       "<div>\n",
       "<style scoped>\n",
       "    .dataframe tbody tr th:only-of-type {\n",
       "        vertical-align: middle;\n",
       "    }\n",
       "\n",
       "    .dataframe tbody tr th {\n",
       "        vertical-align: top;\n",
       "    }\n",
       "\n",
       "    .dataframe thead th {\n",
       "        text-align: right;\n",
       "    }\n",
       "</style>\n",
       "<table border=\"1\" class=\"dataframe\">\n",
       "  <thead>\n",
       "    <tr style=\"text-align: right;\">\n",
       "      <th></th>\n",
       "      <th>name</th>\n",
       "      <th>adress</th>\n",
       "      <th>birthday</th>\n",
       "    </tr>\n",
       "  </thead>\n",
       "  <tbody>\n",
       "    <tr>\n",
       "      <th>0</th>\n",
       "      <td>An</td>\n",
       "      <td>HN</td>\n",
       "      <td>28.3.2019</td>\n",
       "    </tr>\n",
       "    <tr>\n",
       "      <th>1</th>\n",
       "      <td>Hang</td>\n",
       "      <td>QN</td>\n",
       "      <td>5/12/2020</td>\n",
       "    </tr>\n",
       "    <tr>\n",
       "      <th>2</th>\n",
       "      <td>Nga</td>\n",
       "      <td>BT</td>\n",
       "      <td>25-Sep-19</td>\n",
       "    </tr>\n",
       "    <tr>\n",
       "      <th>3</th>\n",
       "      <td>Anh</td>\n",
       "      <td>TB</td>\n",
       "      <td>3-Jan-19</td>\n",
       "    </tr>\n",
       "    <tr>\n",
       "      <th>4</th>\n",
       "      <td>Phuong</td>\n",
       "      <td>ND</td>\n",
       "      <td>03.08.2019</td>\n",
       "    </tr>\n",
       "  </tbody>\n",
       "</table>\n",
       "</div>"
      ],
      "text/plain": [
       "     name adress    birthday\n",
       "0      An     HN   28.3.2019\n",
       "1    Hang     QN   5/12/2020\n",
       "2     Nga     BT   25-Sep-19\n",
       "3     Anh     TB    3-Jan-19\n",
       "4  Phuong     ND  03.08.2019"
      ]
     },
     "execution_count": 72,
     "metadata": {},
     "output_type": "execute_result"
    }
   ],
   "source": [
    "birthday = pd.read_csv(r\"C:\\Users\\KyThuat88\\Downloads\\Sample-Midterm-1-Data\\Sample-Midterm-1-Data\\birthdays.csv\")\n",
    "birthday"
   ]
  },
  {
   "cell_type": "code",
   "execution_count": 43,
   "id": "2cd315b0",
   "metadata": {},
   "outputs": [],
   "source": [
    "birthday['birthday'] = birthday['birthday'].str.extract(r'(\\d+$)')"
   ]
  },
  {
   "cell_type": "code",
   "execution_count": 73,
   "id": "8dadb971",
   "metadata": {},
   "outputs": [
    {
     "data": {
      "text/plain": [
       "0    2019\n",
       "1    2020\n",
       "2    2019\n",
       "3    2019\n",
       "4    2019\n",
       "Name: birthday, dtype: int64"
      ]
     },
     "execution_count": 73,
     "metadata": {},
     "output_type": "execute_result"
    }
   ],
   "source": [
    "birthday['birthday'] = birthday['birthday'].apply(lambda x: '20' + str(x) if len(str(x)) == 2 else x)\n",
    "# cach2 = pd.to_datetime(birthday['birthday']).dt.year\n",
    "# cach2"
   ]
  },
  {
   "cell_type": "code",
   "execution_count": 45,
   "id": "c8a55357",
   "metadata": {},
   "outputs": [],
   "source": [
    "birthday['birthday'] = birthday['birthday'].astype('float')"
   ]
  },
  {
   "cell_type": "code",
   "execution_count": 46,
   "id": "3daf999a",
   "metadata": {},
   "outputs": [
    {
     "name": "stdout",
     "output_type": "stream",
     "text": [
      "<class 'pandas.core.frame.DataFrame'>\n",
      "RangeIndex: 5 entries, 0 to 4\n",
      "Data columns (total 3 columns):\n",
      " #   Column    Non-Null Count  Dtype  \n",
      "---  ------    --------------  -----  \n",
      " 0   name      5 non-null      object \n",
      " 1   adress    5 non-null      object \n",
      " 2   birthday  5 non-null      float64\n",
      "dtypes: float64(1), object(2)\n",
      "memory usage: 248.0+ bytes\n"
     ]
    }
   ],
   "source": [
    "birthday.info()"
   ]
  },
  {
   "cell_type": "markdown",
   "id": "183d3656",
   "metadata": {},
   "source": [
    "### VI. URL dataset"
   ]
  },
  {
   "cell_type": "code",
   "execution_count": 47,
   "id": "942eea7e",
   "metadata": {},
   "outputs": [
    {
     "data": {
      "text/html": [
       "<div>\n",
       "<style scoped>\n",
       "    .dataframe tbody tr th:only-of-type {\n",
       "        vertical-align: middle;\n",
       "    }\n",
       "\n",
       "    .dataframe tbody tr th {\n",
       "        vertical-align: top;\n",
       "    }\n",
       "\n",
       "    .dataframe thead th {\n",
       "        text-align: right;\n",
       "    }\n",
       "</style>\n",
       "<table border=\"1\" class=\"dataframe\">\n",
       "  <thead>\n",
       "    <tr style=\"text-align: right;\">\n",
       "      <th></th>\n",
       "      <th>id</th>\n",
       "      <th>url</th>\n",
       "    </tr>\n",
       "  </thead>\n",
       "  <tbody>\n",
       "    <tr>\n",
       "      <th>0</th>\n",
       "      <td>accc1111fa49</td>\n",
       "      <td>https://www.kaggle.com/datasets/teseract/urlda...</td>\n",
       "    </tr>\n",
       "    <tr>\n",
       "      <th>1</th>\n",
       "      <td>48ee0ff1ce97</td>\n",
       "      <td>https://vesta-nf.com/</td>\n",
       "    </tr>\n",
       "    <tr>\n",
       "      <th>2</th>\n",
       "      <td>006ff702f8ea</td>\n",
       "      <td>http://wordpress.com/amet.html</td>\n",
       "    </tr>\n",
       "    <tr>\n",
       "      <th>3</th>\n",
       "      <td>7fb76495700</td>\n",
       "      <td>http://qq.com/lacus/morbi/sem.jpg</td>\n",
       "    </tr>\n",
       "    <tr>\n",
       "      <th>4</th>\n",
       "      <td>a8484937dc</td>\n",
       "      <td>https://www.vndirect.com.vn/</td>\n",
       "    </tr>\n",
       "  </tbody>\n",
       "</table>\n",
       "</div>"
      ],
      "text/plain": [
       "             id                                                url\n",
       "0  accc1111fa49  https://www.kaggle.com/datasets/teseract/urlda...\n",
       "1  48ee0ff1ce97                              https://vesta-nf.com/\n",
       "2  006ff702f8ea                     http://wordpress.com/amet.html\n",
       "3   7fb76495700                  http://qq.com/lacus/morbi/sem.jpg\n",
       "4    a8484937dc                       https://www.vndirect.com.vn/"
      ]
     },
     "execution_count": 47,
     "metadata": {},
     "output_type": "execute_result"
    }
   ],
   "source": [
    "urls = pd.read_csv(r\"C:\\Users\\KyThuat88\\Downloads\\Sample-Midterm-1-Data\\Sample-Midterm-1-Data\\urls.csv\")\n",
    "urls"
   ]
  },
  {
   "cell_type": "code",
   "execution_count": 48,
   "id": "4a232226",
   "metadata": {},
   "outputs": [
    {
     "data": {
      "text/plain": [
       "0     True\n",
       "1     True\n",
       "2    False\n",
       "3    False\n",
       "4     True\n",
       "Name: url, dtype: bool"
      ]
     },
     "execution_count": 48,
     "metadata": {},
     "output_type": "execute_result"
    }
   ],
   "source": [
    "urls['url'].str.contains('^https', regex = True)"
   ]
  },
  {
   "cell_type": "code",
   "execution_count": 49,
   "id": "d0a1351c",
   "metadata": {},
   "outputs": [],
   "source": [
    "# Add a secure Boolean column. It should have the value True if the URL starts with HTTPs and False otherwise"
   ]
  },
  {
   "cell_type": "code",
   "execution_count": 50,
   "id": "71aa678d",
   "metadata": {},
   "outputs": [],
   "source": [
    "urls['Boolean'] = urls['url'].str.contains('^https', regex = True)"
   ]
  },
  {
   "cell_type": "code",
   "execution_count": 51,
   "id": "90e9729a",
   "metadata": {},
   "outputs": [
    {
     "data": {
      "text/html": [
       "<div>\n",
       "<style scoped>\n",
       "    .dataframe tbody tr th:only-of-type {\n",
       "        vertical-align: middle;\n",
       "    }\n",
       "\n",
       "    .dataframe tbody tr th {\n",
       "        vertical-align: top;\n",
       "    }\n",
       "\n",
       "    .dataframe thead th {\n",
       "        text-align: right;\n",
       "    }\n",
       "</style>\n",
       "<table border=\"1\" class=\"dataframe\">\n",
       "  <thead>\n",
       "    <tr style=\"text-align: right;\">\n",
       "      <th></th>\n",
       "      <th>id</th>\n",
       "      <th>url</th>\n",
       "      <th>Boolean</th>\n",
       "    </tr>\n",
       "  </thead>\n",
       "  <tbody>\n",
       "    <tr>\n",
       "      <th>0</th>\n",
       "      <td>accc1111fa49</td>\n",
       "      <td>https://www.kaggle.com/datasets/teseract/urlda...</td>\n",
       "      <td>True</td>\n",
       "    </tr>\n",
       "    <tr>\n",
       "      <th>1</th>\n",
       "      <td>48ee0ff1ce97</td>\n",
       "      <td>https://vesta-nf.com/</td>\n",
       "      <td>True</td>\n",
       "    </tr>\n",
       "    <tr>\n",
       "      <th>2</th>\n",
       "      <td>006ff702f8ea</td>\n",
       "      <td>http://wordpress.com/amet.html</td>\n",
       "      <td>False</td>\n",
       "    </tr>\n",
       "    <tr>\n",
       "      <th>3</th>\n",
       "      <td>7fb76495700</td>\n",
       "      <td>http://qq.com/lacus/morbi/sem.jpg</td>\n",
       "      <td>False</td>\n",
       "    </tr>\n",
       "    <tr>\n",
       "      <th>4</th>\n",
       "      <td>a8484937dc</td>\n",
       "      <td>https://www.vndirect.com.vn/</td>\n",
       "      <td>True</td>\n",
       "    </tr>\n",
       "  </tbody>\n",
       "</table>\n",
       "</div>"
      ],
      "text/plain": [
       "             id                                                url  Boolean\n",
       "0  accc1111fa49  https://www.kaggle.com/datasets/teseract/urlda...     True\n",
       "1  48ee0ff1ce97                              https://vesta-nf.com/     True\n",
       "2  006ff702f8ea                     http://wordpress.com/amet.html    False\n",
       "3   7fb76495700                  http://qq.com/lacus/morbi/sem.jpg    False\n",
       "4    a8484937dc                       https://www.vndirect.com.vn/     True"
      ]
     },
     "execution_count": 51,
     "metadata": {},
     "output_type": "execute_result"
    }
   ],
   "source": [
    "urls"
   ]
  },
  {
   "cell_type": "code",
   "execution_count": 52,
   "id": "160037b0",
   "metadata": {},
   "outputs": [],
   "source": [
    "#3. Add an extension column. It should have the URL extension( all characters after the last . in the URL). In our case: jpg, html"
   ]
  },
  {
   "cell_type": "code",
   "execution_count": 53,
   "id": "ca92c189",
   "metadata": {},
   "outputs": [],
   "source": [
    "urls['Extension'] = urls['url'].str.extract('(\\.\\w+$)') #(?P<extension>....)???"
   ]
  },
  {
   "cell_type": "code",
   "execution_count": 54,
   "id": "ca7e54cc",
   "metadata": {},
   "outputs": [
    {
     "data": {
      "text/html": [
       "<div>\n",
       "<style scoped>\n",
       "    .dataframe tbody tr th:only-of-type {\n",
       "        vertical-align: middle;\n",
       "    }\n",
       "\n",
       "    .dataframe tbody tr th {\n",
       "        vertical-align: top;\n",
       "    }\n",
       "\n",
       "    .dataframe thead th {\n",
       "        text-align: right;\n",
       "    }\n",
       "</style>\n",
       "<table border=\"1\" class=\"dataframe\">\n",
       "  <thead>\n",
       "    <tr style=\"text-align: right;\">\n",
       "      <th></th>\n",
       "      <th>id</th>\n",
       "      <th>url</th>\n",
       "      <th>Boolean</th>\n",
       "      <th>Extension</th>\n",
       "    </tr>\n",
       "  </thead>\n",
       "  <tbody>\n",
       "    <tr>\n",
       "      <th>0</th>\n",
       "      <td>accc1111fa49</td>\n",
       "      <td>https://www.kaggle.com/datasets/teseract/urlda...</td>\n",
       "      <td>True</td>\n",
       "      <td>NaN</td>\n",
       "    </tr>\n",
       "    <tr>\n",
       "      <th>1</th>\n",
       "      <td>48ee0ff1ce97</td>\n",
       "      <td>https://vesta-nf.com/</td>\n",
       "      <td>True</td>\n",
       "      <td>NaN</td>\n",
       "    </tr>\n",
       "    <tr>\n",
       "      <th>2</th>\n",
       "      <td>006ff702f8ea</td>\n",
       "      <td>http://wordpress.com/amet.html</td>\n",
       "      <td>False</td>\n",
       "      <td>.html</td>\n",
       "    </tr>\n",
       "    <tr>\n",
       "      <th>3</th>\n",
       "      <td>7fb76495700</td>\n",
       "      <td>http://qq.com/lacus/morbi/sem.jpg</td>\n",
       "      <td>False</td>\n",
       "      <td>.jpg</td>\n",
       "    </tr>\n",
       "    <tr>\n",
       "      <th>4</th>\n",
       "      <td>a8484937dc</td>\n",
       "      <td>https://www.vndirect.com.vn/</td>\n",
       "      <td>True</td>\n",
       "      <td>NaN</td>\n",
       "    </tr>\n",
       "  </tbody>\n",
       "</table>\n",
       "</div>"
      ],
      "text/plain": [
       "             id                                                url  Boolean  \\\n",
       "0  accc1111fa49  https://www.kaggle.com/datasets/teseract/urlda...     True   \n",
       "1  48ee0ff1ce97                              https://vesta-nf.com/     True   \n",
       "2  006ff702f8ea                     http://wordpress.com/amet.html    False   \n",
       "3   7fb76495700                  http://qq.com/lacus/morbi/sem.jpg    False   \n",
       "4    a8484937dc                       https://www.vndirect.com.vn/     True   \n",
       "\n",
       "  Extension  \n",
       "0       NaN  \n",
       "1       NaN  \n",
       "2     .html  \n",
       "3      .jpg  \n",
       "4       NaN  "
      ]
     },
     "execution_count": 54,
     "metadata": {},
     "output_type": "execute_result"
    }
   ],
   "source": [
    "urls"
   ]
  },
  {
   "cell_type": "code",
   "execution_count": null,
   "id": "b14f95e5",
   "metadata": {},
   "outputs": [],
   "source": []
  }
 ],
 "metadata": {
  "kernelspec": {
   "display_name": "Python 3 (ipykernel)",
   "language": "python",
   "name": "python3"
  },
  "language_info": {
   "codemirror_mode": {
    "name": "ipython",
    "version": 3
   },
   "file_extension": ".py",
   "mimetype": "text/x-python",
   "name": "python",
   "nbconvert_exporter": "python",
   "pygments_lexer": "ipython3",
   "version": "3.9.12"
  }
 },
 "nbformat": 4,
 "nbformat_minor": 5
}
